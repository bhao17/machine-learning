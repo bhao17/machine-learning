{
 "cells": [
  {
   "cell_type": "code",
   "execution_count": 95,
   "metadata": {},
   "outputs": [
    {
     "name": "stdout",
     "output_type": "stream",
     "text": [
      "(5000, 401) (5000,) (25, 401) (10, 26)\n"
     ]
    }
   ],
   "source": [
    "#Imports\n",
    "import numpy as np\n",
    "import time \n",
    "import math\n",
    "# read in data and weights\n",
    "# since label data is in fact 1-10, we will change them into 0 to 9\n",
    "X_old = np.genfromtxt('ps5_data.csv',delimiter=',')\n",
    "y = np.genfromtxt('ps5_data-labels.csv',delimiter=',')\n",
    "y = y-1\n",
    "W1 = np.genfromtxt('ps5_theta1.csv',delimiter=',')\n",
    "W2 = np.genfromtxt('ps5_theta2.csv',delimiter=',')\n",
    "bias1 = W1[:, 0]\n",
    "bias2 = W2[:, 0]\n",
    "print(X.shape, y.shape, W1.shape, W2.shape)"
   ]
  },
  {
   "cell_type": "code",
   "execution_count": 96,
   "metadata": {},
   "outputs": [],
   "source": [
    "X = np.ones((5000,401))\n",
    "X[:, 1:] = X_old"
   ]
  },
  {
   "cell_type": "code",
   "execution_count": 97,
   "metadata": {},
   "outputs": [],
   "source": [
    "def sigmoid(z):\n",
    "    return (1/(1+math.exp(-z)))"
   ]
  },
  {
   "cell_type": "code",
   "execution_count": 98,
   "metadata": {},
   "outputs": [],
   "source": [
    "def softmax(z): \n",
    "    a = [0] * 10\n",
    "    expsum = 0\n",
    "    for i in range(10):\n",
    "        expsum += math.exp(z[i])\n",
    "    for i in range (10):\n",
    "        a[i] = math.exp(z[i])/expsum\n",
    "    return a"
   ]
  },
  {
   "cell_type": "code",
   "execution_count": 99,
   "metadata": {},
   "outputs": [],
   "source": [
    "def neuronActivation(xrow, num, x, w):\n",
    "    z1 = np.matmul(x[xrow], w[num])\n",
    "    a1 = sigmoid(z1)\n",
    "    return a1"
   ]
  },
  {
   "cell_type": "code",
   "execution_count": 100,
   "metadata": {},
   "outputs": [],
   "source": [
    "def final_layer(a1, w2): #a1 is 1X25, w2 is 10X26\n",
    "    a1 = [1] + a1 #a1 is now 1*26\n",
    "    z2 = [0] * 10\n",
    "    w2T = w2.transpose()\n",
    "    z2 = np.matmul(a1, w2T)\n",
    "    return softmax(z2)"
   ]
  },
  {
   "cell_type": "code",
   "execution_count": 101,
   "metadata": {},
   "outputs": [],
   "source": [
    "def forward(x, xrow, w1, w2):\n",
    "    a1 = []\n",
    "    for i in range(25):\n",
    "        a1.append(neuronActivation(xrow, i, x, w1))\n",
    "    a2 = final_layer(a1, w2)\n",
    "    return a2"
   ]
  },
  {
   "cell_type": "code",
   "execution_count": 102,
   "metadata": {},
   "outputs": [
    {
     "name": "stdout",
     "output_type": "stream",
     "text": [
      "[3.5940306607658613e-07, 5.5637538946362876e-05, 1.5994552645981918e-05, 5.698427050909934e-07, 5.719203151412393e-06, 4.962468030353419e-06, 1.6120054267171294e-05, 2.003428652322571e-06, 2.318032046515967e-06, 0.9998963154764886]\n"
     ]
    }
   ],
   "source": [
    "a2 = forward(X, 50, W1, W2)\n",
    "print(a2)"
   ]
  },
  {
   "cell_type": "code",
   "execution_count": 103,
   "metadata": {},
   "outputs": [],
   "source": [
    "def classify(xrow):\n",
    "    yhat = forward(X, xrow, W1, W2)\n",
    "    if yhat[0]>yhat[1]:\n",
    "        big = yhat[0]\n",
    "    else:\n",
    "        big = yhat[1]\n",
    "    for i in range(len(yhat)):\n",
    "        if (yhat[i] > big):\n",
    "            big = yhat[i]\n",
    "    return yhat.index(big)"
   ]
  },
  {
   "cell_type": "code",
   "execution_count": 104,
   "metadata": {},
   "outputs": [],
   "source": [
    "def populate_predictions(): #also times the population\n",
    "    p = []\n",
    "    t1 = time.time()\n",
    "    for i in range(5000):\n",
    "        #if i % 100 == 0:\n",
    "            #print(i)\n",
    "        p.append(classify(i))\n",
    "    t2 = time.time()\n",
    "    total_time = t2-t1\n",
    "    return p, total_time"
   ]
  },
  {
   "cell_type": "code",
   "execution_count": 105,
   "metadata": {},
   "outputs": [
    {
     "name": "stdout",
     "output_type": "stream",
     "text": [
      "0.35804224014282227\n",
      "^ this is the total time it took to populate the list\n"
     ]
    }
   ],
   "source": [
    "predictions, ttime = populate_predictions()\n",
    "print(ttime)\n",
    "print(\"^ this is the total time it took to populate the list\")"
   ]
  },
  {
   "cell_type": "code",
   "execution_count": 106,
   "metadata": {},
   "outputs": [],
   "source": [
    "def error_rate(p, y):\n",
    "    error_count = 0\n",
    "    for i in range(len(y)):\n",
    "        if (p[i] != y[i]):\n",
    "            error_count += 1\n",
    "    print(error_count)\n",
    "    return (error_count/len(y))"
   ]
  },
  {
   "cell_type": "code",
   "execution_count": 107,
   "metadata": {},
   "outputs": [
    {
     "name": "stdout",
     "output_type": "stream",
     "text": [
      "124\n",
      "0.0248\n"
     ]
    }
   ],
   "source": [
    "error = error_rate(predictions, y)\n",
    "print (error)"
   ]
  },
  {
   "cell_type": "code",
   "execution_count": null,
   "metadata": {},
   "outputs": [],
   "source": []
  }
 ],
 "metadata": {
  "kernelspec": {
   "display_name": "Python 3",
   "language": "python",
   "name": "python3"
  },
  "language_info": {
   "codemirror_mode": {
    "name": "ipython",
    "version": 3
   },
   "file_extension": ".py",
   "mimetype": "text/x-python",
   "name": "python",
   "nbconvert_exporter": "python",
   "pygments_lexer": "ipython3",
   "version": "3.7.1"
  }
 },
 "nbformat": 4,
 "nbformat_minor": 2
}
