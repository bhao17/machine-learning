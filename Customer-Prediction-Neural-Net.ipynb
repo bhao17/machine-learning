{
 "cells": [
  {
   "cell_type": "code",
   "execution_count": 1,
   "metadata": {},
   "outputs": [],
   "source": [
    "import numpy as np\n",
    "import pandas as pd\n",
    "import sklearn as sk\n",
    "import torch\n",
    "import torch.nn as nn\n",
    "import torch.nn.functional as F\n",
    "from torch import Tensor\n",
    "import torch.optim as optim\n",
    "import math\n",
    "import matplotlib.pyplot as plt\n",
    "import matplotlib.image as mpimg\n",
    "import HSBCAPI"
   ]
  },
  {
   "cell_type": "code",
   "execution_count": 2,
   "metadata": {},
   "outputs": [],
   "source": [
    "from HSBCAPI import load_customer_info, load_transaction_history, load_CPI_holding, load_CPI_mapping, load_CPI, load_QDUT_holding, load_QDUT\n",
    "from HSBCAPI import load_ISST_Summary, load_Cust_Purchase_Ind, load_DD_Acct_20170630\n",
    "from HSBCAPI import load_QDUT_mapping, load_insurance_holding, load_insurance_mapping, load_insurance, load_TD_holding, load_TD_mapping, load_TD"
   ]
  },
  {
   "cell_type": "code",
   "execution_count": 3,
   "metadata": {},
   "outputs": [
    {
     "name": "stderr",
     "output_type": "stream",
     "text": [
      "c:\\users\\hd626\\appdata\\local\\programs\\python\\python37\\lib\\site-packages\\IPython\\core\\interactiveshell.py:3214: DtypeWarning: Columns (7) have mixed types. Specify dtype option on import or set low_memory=False.\n",
      "  if (yield from self.run_code(code, result)):\n"
     ]
    }
   ],
   "source": [
    "#import all data\n",
    "cust_info = load_customer_info()\n",
    "transaction_history = load_transaction_history()\n",
    "purchase_ind = load_Cust_Purchase_Ind()\n",
    "ISST_Summary = load_ISST_Summary()\n",
    "#Cust_Purchase_Ind = load_Cust_Purchase_Ind()\n",
    "DDACCT = load_DD_Acct_20170630()\n",
    "#Credit_Card_Txn = load_Credit_Card_Txn()\n",
    "CPI_Input = load_CPI()\n",
    "QDUT_Input = load_QDUT()\n",
    "Insurance_Input = load_insurance()\n",
    "TMD_Input = load_TD()"
   ]
  },
  {
   "cell_type": "code",
   "execution_count": 4,
   "metadata": {},
   "outputs": [],
   "source": [
    "#Pre-preprocessing\n",
    "cust_info = cust_info.drop([\"OccuDesc\",\"BusDesc\"], axis = 1)\n",
    "cust_info = cust_info.reset_index()"
   ]
  },
  {
   "cell_type": "code",
   "execution_count": 5,
   "metadata": {},
   "outputs": [],
   "source": [
    "transaction_history = transaction_history.replace(\"TMD PLACEMENT\", \"P\")\n",
    "transaction_history = transaction_history.replace(\"TMD WITHDRAWAL\", \"W\") "
   ]
  },
  {
   "cell_type": "code",
   "execution_count": 6,
   "metadata": {},
   "outputs": [],
   "source": [
    "QDUT_Input = QDUT_Input.drop([\"Product_Code\", \"Currency\", \"FUM_RCY\", \"FUM_LCY\", \"Y_M\",\n",
    "                             \"Product_Type\", \"Investment_Currency\", \"NAV_YYYYMM\"], axis = 1)\n",
    "QDUT_Input[\"Holding\"] = 1\n",
    "QDUT_Input = QDUT_Input.drop_duplicates(subset = \"Customer_id\", keep = 'first')\n",
    "cust_info.reset_index()\n",
    "cust_info = cust_info.assign(HoldingQDUT=cust_info[\"Customer_id\"].isin(QDUT_Input[\"Customer_id\"]).astype(int))  "
   ]
  },
  {
   "cell_type": "code",
   "execution_count": 7,
   "metadata": {},
   "outputs": [],
   "source": [
    "CPI_Input = CPI_Input.drop([\"Product_Class\", \"Acct_id\", \"ACOpenDate\", \"Currency\", \"RCYEOD\",\n",
    "                             \"LCYEOD\", \"MTDAVG\", \"Product_Code\", \"Investment_Currency\",\n",
    "                             \"Start_Date\", \"Maturity_Date\", \"NAV\"], axis = 1)\n",
    "CPI_Input[\"Holding\"] = 1\n",
    "CPI_Input = CPI_Input.drop_duplicates(subset = \"Customer_id\", keep = 'first')\n",
    "cust_info = cust_info.assign(HoldingCPI=cust_info[\"Customer_id\"].isin(CPI_Input[\"Customer_id\"]).astype(int))  "
   ]
  },
  {
   "cell_type": "code",
   "execution_count": 8,
   "metadata": {},
   "outputs": [],
   "source": [
    "Insurance_Input = Insurance_Input.drop([\"Product_Code\", \"Term\", \"Market_Value\", \"Insurer\", \"Needs\"], axis = 1)\n",
    "Insurance_Input[\"Holding\"] = 1\n",
    "Insurance_Input = Insurance_Input.drop_duplicates(subset = \"Customer_id\", keep = 'first')\n",
    "cust_info = cust_info.assign(HoldingInsurance=cust_info[\"Customer_id\"].isin(Insurance_Input[\"Customer_id\"]).astype(int))  "
   ]
  },
  {
   "cell_type": "code",
   "execution_count": 9,
   "metadata": {},
   "outputs": [],
   "source": [
    "TMD_Input = TMD_Input.drop([\"Product_Class\", \"Acct_id\", \"ACOpenDate\", \"Currency\", \"RCYEOD\",\n",
    "                             \"LCYEOD\", \"MTDAVG\", \"Term\", \"Startdate\", \"Duedate\"], axis = 1)\n",
    "TMD_Input[\"Holding\"] = 1\n",
    "TMD_Input = TMD_Input.drop_duplicates(subset = \"Customer_id\", keep = 'first')\n",
    "cust_info = cust_info.assign(HoldingTMD=cust_info[\"Customer_id\"].isin(TMD_Input[\"Customer_id\"]).astype(int))  "
   ]
  },
  {
   "cell_type": "code",
   "execution_count": 10,
   "metadata": {},
   "outputs": [],
   "source": [
    "def process(df):\n",
    "    #split into categorical and non-categorical dataframes\n",
    "    categorical_feature_mask = df.dtypes==object\n",
    "    categorical_cols = df.columns[categorical_feature_mask].tolist()\n",
    "\n",
    "    df_cat = df[categorical_cols]\n",
    "    df = df.drop(categorical_cols, axis = 1)\n",
    "    \n",
    "    #deal with null values\n",
    "    #fixing nulls for numerical categories\n",
    "    df = df.fillna(df.mean())\n",
    "    #fixing nulls for non-numerical categories\n",
    "    df_cat = df_cat.fillna(\"\")\n",
    "    \n",
    "    #convert categorical to onehot\n",
    "    #Convert to one hot\n",
    "    from sklearn.preprocessing import OneHotEncoder\n",
    "    enc = OneHotEncoder(handle_unknown='ignore')\n",
    "    df_cat = enc.fit_transform(df_cat.astype(str))\n",
    "    \n",
    "    return df, df_cat"
   ]
  },
  {
   "cell_type": "code",
   "execution_count": 11,
   "metadata": {},
   "outputs": [],
   "source": [
    "cust, cust_cat = process(cust_info)"
   ]
  },
  {
   "cell_type": "code",
   "execution_count": 12,
   "metadata": {},
   "outputs": [],
   "source": [
    "t = cust.copy()\n",
    "\n",
    "t = t.drop([\"age\", \"FirstContactDay\", \"PBK_Ind\", \"OccuCode\", \"Salary\", \"Marital_Status\", \"Number_Children\",\n",
    "            \"Education_Level\", \"Home_Ownership\", \"HoldingQDUT\", \"HoldingCPI\", \"HoldingInsurance\", \"HoldingTMD\", \"index\"], axis=1)\n",
    "\n",
    "purch = purchase_ind.copy()\n",
    "\n",
    "purch.insert(13, \"Output\", 0) "
   ]
  },
  {
   "cell_type": "code",
   "execution_count": 13,
   "metadata": {},
   "outputs": [],
   "source": [
    "outputs = []\n",
    "for index, row in purch.iterrows():\n",
    "    for i in row:\n",
    "        if i == 1:\n",
    "            outputs.append(1)\n",
    "            purch.at[index,'Output'] = 1\n",
    "        else: purch.at[index,'Output'] = 0"
   ]
  },
  {
   "cell_type": "code",
   "execution_count": 35,
   "metadata": {},
   "outputs": [
    {
     "data": {
      "text/plain": [
       "19553"
      ]
     },
     "execution_count": 35,
     "metadata": {},
     "output_type": "execute_result"
    }
   ],
   "source": [
    "len(outputs)"
   ]
  },
  {
   "cell_type": "code",
   "execution_count": 14,
   "metadata": {},
   "outputs": [],
   "source": [
    "ting1 = purch.drop([\"Month 1\", \"Month 2\", \"Month 3\", \"Month 4\", \"Month 5\", \"Month 6\", \"Month 7\", \"Month 8\",\n",
    "                    \"Month 9\", \"Month 10\", \"Month 11\", \"Month 12\"], axis=1)\n",
    "\n",
    "ting = ting1.rename(index=str, columns={\"Customer_ID\": \"Customer_id\"})\n",
    "\n",
    "op = t.merge(ting, on=\"Customer_id\")"
   ]
  },
  {
   "cell_type": "code",
   "execution_count": 15,
   "metadata": {},
   "outputs": [],
   "source": [
    "#drops Customer_id index since it would bias the data if included in the prediction\n",
    "op = op.drop([\"Customer_id\"], axis=1)\n",
    "\n",
    "#turn pandas dataframe into numpy matrix\n",
    "op = op.values\n",
    "\n",
    "#converts the sparse matrix for the one hot vectors into a dense matrix\n",
    "cust_cat = cust_cat.todense()\n",
    "\n",
    "#drops Customer_id index since it would bias the data if included in the prediction\n",
    "cust_info = cust.drop(columns = [\"Customer_id\"])\n",
    "\n",
    "#turn pandas dataframe into numpy matrix\n",
    "cust_info = cust_info.values\n",
    "\n",
    "#put all matrices into one\n",
    "inputs = np.hstack((cust_info, cust_cat, op))"
   ]
  },
  {
   "cell_type": "code",
   "execution_count": 16,
   "metadata": {},
   "outputs": [
    {
     "data": {
      "text/plain": [
       "(300039, 338)"
      ]
     },
     "execution_count": 16,
     "metadata": {},
     "output_type": "execute_result"
    }
   ],
   "source": [
    "#at this point, cust_info should have all the data we consolidated in numpy matrix form minus customer ids\n",
    "inputs.shape"
   ]
  },
  {
   "cell_type": "code",
   "execution_count": 29,
   "metadata": {},
   "outputs": [
    {
     "data": {
      "text/plain": [
       "(300039, 1)"
      ]
     },
     "execution_count": 29,
     "metadata": {},
     "output_type": "execute_result"
    }
   ],
   "source": [
    "op.shape"
   ]
  },
  {
   "cell_type": "code",
   "execution_count": 17,
   "metadata": {},
   "outputs": [],
   "source": [
    "X = torch.tensor(inputs, dtype=torch.float)\n",
    "y = torch.tensor(op, dtype=torch.float)"
   ]
  },
  {
   "cell_type": "code",
   "execution_count": 18,
   "metadata": {},
   "outputs": [],
   "source": [
    "def get_correct_and_accuracy(y_pred, y):\n",
    "    # y_pred is the nxC prediction scores\n",
    "    # give the number of correct and the accuracy\n",
    "    n = y.shape[0]\n",
    "    # find the prediction class label\n",
    "    _ ,pred_class = y_pred.max(dim=1)\n",
    "    correct = (pred_class == y).sum().item()\n",
    "    return correct ,correct/n"
   ]
  },
  {
   "cell_type": "code",
   "execution_count": 19,
   "metadata": {},
   "outputs": [],
   "source": [
    "class MLP(nn.Module):\n",
    "    ## a very simple MLP model\n",
    "    def __init__(self, input_dim, output_dim):\n",
    "        super(MLP, self).__init__()\n",
    "        self.fc1 = nn.Linear(input_dim, 32)\n",
    "        self.fc2 = nn.Linear(32, output_dim)\n",
    "        \n",
    "        # in order to put all of the parameters into a list you have to use nn.Module([]) bc you cant use a normal python list\n",
    "#         nn.Module([])\n",
    "    def forward(self, x):\n",
    "        z_1 = self.fc1(x)\n",
    "        a_1 = F.relu(z_1)\n",
    "        z_2 = self.fc2(a_1)\n",
    "        return z_2"
   ]
  },
  {
   "cell_type": "code",
   "execution_count": 20,
   "metadata": {},
   "outputs": [],
   "source": [
    "validation_count = 10000\n",
    "train_count = X.shape[0]-10000\n",
    "X_train = X[:train_count]\n",
    "y_train = y[:train_count]\n",
    "X_val = X[train_count:]\n",
    "y_val = y[train_count:]\n",
    "X_test = X\n",
    "y_test = y"
   ]
  },
  {
   "cell_type": "code",
   "execution_count": 30,
   "metadata": {},
   "outputs": [],
   "source": [
    "mlp = MLP(338, 2)\n",
    "optimizer = optim.Adam(mlp.parameters(), lr=1e-3)\n",
    "criterion = nn.CrossEntropyLoss()\n",
    "\n",
    "n_iteration = 10\n",
    "batch_size = 256\n",
    "n_train_data = X_train.shape[0]\n",
    "n_batch = int(np.ceil(n_train_data/batch_size))\n",
    "\n",
    "X_train_tensor = Tensor(X_train).reshape(n_train_data, -1)\n",
    "X_val_tensor = Tensor(X_val).reshape(10000, -1)\n",
    "X_test_tensor = Tensor(X_test).reshape(300039, -1)\n",
    "\n",
    "y_train_tensor = Tensor(y_train).long().reshape(-1)\n",
    "y_val_tensor = Tensor(y_val).long().reshape(-1)\n",
    "y_test_tensor = Tensor(y_test).long().reshape(-1)"
   ]
  },
  {
   "cell_type": "code",
   "execution_count": 31,
   "metadata": {},
   "outputs": [
    {
     "data": {
      "text/plain": [
       "torch.Size([10000, 338])"
      ]
     },
     "execution_count": 31,
     "metadata": {},
     "output_type": "execute_result"
    }
   ],
   "source": [
    "X_val_tensor.shape"
   ]
  },
  {
   "cell_type": "code",
   "execution_count": 32,
   "metadata": {},
   "outputs": [
    {
     "name": "stdout",
     "output_type": "stream",
     "text": [
      "Iter 0 ,Train loss: 4446.743, Train acc: 0.981, Val loss: 150.966, Val acc: 0.995\n",
      "Iter 1 ,Train loss: 489.358, Train acc: 0.989, Val loss: 839.472, Val acc: 0.995\n",
      "Iter 2 ,Train loss: 447.302, Train acc: 0.990, Val loss: 981.010, Val acc: 0.995\n",
      "Iter 3 ,Train loss: 371.878, Train acc: 0.991, Val loss: 116.794, Val acc: 0.995\n",
      "Iter 4 ,Train loss: 348.393, Train acc: 0.990, Val loss: 156.972, Val acc: 0.995\n",
      "Iter 5 ,Train loss: 265.823, Train acc: 0.990, Val loss: 76.207, Val acc: 0.995\n",
      "Iter 6 ,Train loss: 116.357, Train acc: 0.991, Val loss: 48.916, Val acc: 0.517\n",
      "Iter 7 ,Train loss: 33.789, Train acc: 0.990, Val loss: 18.736, Val acc: 0.995\n",
      "Iter 8 ,Train loss: 20.106, Train acc: 0.993, Val loss: 0.062, Val acc: 0.995\n",
      "Iter 9 ,Train loss: 14.250, Train acc: 0.995, Val loss: 0.124, Val acc: 0.995\n"
     ]
    }
   ],
   "source": [
    "train_loss_list = np.zeros(n_iteration)\n",
    "train_accu_list = np.zeros(n_iteration)\n",
    "val_loss_list = np.zeros(n_iteration)\n",
    "val_accu_list = np.zeros(n_iteration)\n",
    "for i in range(n_iteration):\n",
    "    # first get a minibatch of data\n",
    "    train_loss_all_batch = 0\n",
    "    train_correct = 0\n",
    "    for j in range(n_batch):\n",
    "        batch_start_index = j*batch_size\n",
    "\n",
    "        X_batch = X_train_tensor[batch_start_index:batch_start_index+batch_size]\n",
    "        \n",
    "        y_pred_batch = mlp.forward(X_batch)\n",
    "        \n",
    "        y_batch = y_train_tensor[batch_start_index:batch_start_index+batch_size]\n",
    "        \n",
    "        train_loss = criterion(y_pred_batch, y_batch)\n",
    "        \n",
    "        train_loss_all_batch += train_loss.item()\n",
    "        \n",
    "        optimizer.zero_grad()\n",
    "        \n",
    "        train_loss.backward()\n",
    "        \n",
    "        optimizer.step()\n",
    "        \n",
    "        train_correct_batch, _ = get_correct_and_accuracy(y_pred_batch, y_batch)\n",
    "        train_correct += train_correct_batch\n",
    "        \n",
    "    ## logging training information    \n",
    "    ave_train_loss = train_loss_all_batch / n_batch\n",
    "    train_accu = train_correct / n_train_data\n",
    "    \n",
    "    # compute validation loss and accuracy\n",
    "    y_val_pred = mlp(X_val_tensor)\n",
    "    val_loss = criterion(y_val_pred, y_val_tensor)\n",
    "    val_correct, val_accu = get_correct_and_accuracy(y_val_pred, y_val_tensor)\n",
    "    \n",
    "    print(\"Iter %d ,Train loss: %.3f, Train acc: %.3f, Val loss: %.3f, Val acc: %.3f\" \n",
    "          %(i ,ave_train_loss, train_accu, val_loss, val_accu)) \n",
    "    \n",
    "    ## add to the logs so that we can use them later for plotting\n",
    "    train_loss_list[i] = ave_train_loss\n",
    "    train_accu_list[i] = train_accu\n",
    "    val_loss_list[i] = val_loss.item()\n",
    "    val_accu_list[i] = val_accu"
   ]
  },
  {
   "cell_type": "code",
   "execution_count": 33,
   "metadata": {},
   "outputs": [
    {
     "data": {
      "image/png": "[encoded data removed]",
      "text/plain": [
       "<Figure size 432x288 with 1 Axes>"
      ]
     },
     "metadata": {
      "needs_background": "light"
     },
     "output_type": "display_data"
    }
   ],
   "source": [
    "## plot training loss versus validation loss\n",
    "x_axis = np.arange(n_iteration)\n",
    "plt.plot(x_axis, train_loss_list, label='train loss')\n",
    "plt.plot(x_axis, val_loss_list, label='val loss')\n",
    "plt.legend()\n",
    "plt.show()"
   ]
  },
  {
   "cell_type": "code",
   "execution_count": 34,
   "metadata": {},
   "outputs": [
    {
     "data": {
      "image/png": "[encoded data removed]",
      "text/plain": [
       "<Figure size 432x288 with 1 Axes>"
      ]
     },
     "metadata": {
      "needs_background": "light"
     },
     "output_type": "display_data"
    }
   ],
   "source": [
    "## plot training accuracy versus validation accuracy\n",
    "plt.plot(x_axis, train_accu_list, label='train acc')\n",
    "plt.plot(x_axis, val_accu_list, label='val acc')\n",
    "plt.legend()\n",
    "plt.show()"
   ]
  },
  {
   "cell_type": "code",
   "execution_count": null,
   "metadata": {},
   "outputs": [],
   "source": []
  }
 ],
 "metadata": {
  "kernelspec": {
   "display_name": "Python 3",
   "language": "python",
   "name": "python3"
  },
  "language_info": {
   "codemirror_mode": {
    "name": "ipython",
    "version": 3
   },
   "file_extension": ".py",
   "mimetype": "text/x-python",
   "name": "python",
   "nbconvert_exporter": "python",
   "pygments_lexer": "ipython3",
   "version": "3.7.3"
  }
 },
 "nbformat": 4,
 "nbformat_minor": 2
}
