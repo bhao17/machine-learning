{
 "cells": [
  {
   "cell_type": "code",
   "execution_count": 127,
   "metadata": {},
   "outputs": [
    {
     "name": "stdout",
     "output_type": "stream",
     "text": [
      "['2104,3,399900\\n', '1600,3,329900\\n', '2400,3,369000\\n', '1416,2,232000\\n', '3000,4,539900\\n', '1985,4,299900\\n', '1534,3,314900\\n', '1427,3,198999\\n', '1380,3,212000\\n', '1494,3,242500\\n', '1940,4,239999\\n', '2000,3,347000\\n', '1890,3,329999\\n', '4478,5,699900\\n', '1268,3,259900\\n', '2300,4,449900\\n', '1320,2,299900\\n', '1236,3,199900\\n', '2609,4,499998\\n', '3031,4,599000\\n', '1767,3,252900\\n', '1888,2,255000\\n', '1604,3,242900\\n', '1962,4,259900\\n', '3890,3,573900\\n', '1100,3,249900\\n', '1458,3,464500\\n', '2526,3,469000\\n', '2200,3,475000\\n', '2637,3,299900\\n', '1839,2,349900\\n', '1000,1,169900\\n', '2040,4,314900\\n', '3137,3,579900\\n', '1811,4,285900\\n', '1437,3,249900\\n', '1239,3,229900\\n', '2132,4,345000\\n', '4215,4,549000\\n', '2162,4,287000\\n', '1664,2,368500\\n', '2238,3,329900\\n', '2567,4,314000\\n', '1200,3,299000\\n', '852,2,179900\\n', '1852,4,299900\\n', '1203,3,239500\\n']\n"
     ]
    }
   ],
   "source": [
    "import math\n",
    "#read in file\n",
    "data = []\n",
    "with open (\"housing.txt\") as file:\n",
    "    data = file.readlines()\n",
    "\n",
    "print (data)"
   ]
  },
  {
   "cell_type": "code",
   "execution_count": 128,
   "metadata": {},
   "outputs": [
    {
     "data": {
      "text/plain": [
       "(2.0, 0.816496580927726)"
      ]
     },
     "execution_count": 128,
     "metadata": {},
     "output_type": "execute_result"
    }
   ],
   "source": [
    "#mean standard deviation \n",
    "def mst (l): \n",
    "    t = 0\n",
    "    for i in l:\n",
    "        t += i\n",
    "    mean = t/len(l)\n",
    "    stdevlist = []\n",
    "    for i in l:\n",
    "        stdevlist.append((i-mean)*(i-mean))\n",
    "    nt = 0\n",
    "    for i in stdevlist:\n",
    "        nt += i\n",
    "    stdev = math.sqrt(nt/len(l))\n",
    "    return mean, stdev\n",
    "\n",
    "lol = [1, 2, 3]\n",
    "mst(lol)"
   ]
  },
  {
   "cell_type": "code",
   "execution_count": 129,
   "metadata": {},
   "outputs": [],
   "source": [
    "def Normalize (inputtext): \n",
    "    #read in file\n",
    "    data1 = []\n",
    "    with open (inputtext) as file:\n",
    "        data1 = file.readlines()\n",
    "    \n",
    "    data = []\n",
    "    for d in data1:\n",
    "        d = d.split(',')\n",
    "        data.append(d)\n",
    "    \n",
    "    size = []\n",
    "    for d in data:\n",
    "        size.append(int(d[0]))\n",
    "    \n",
    "    numbeds = []\n",
    "    for d in data:\n",
    "        numbeds.append(int(d[1]))\n",
    "    \n",
    "    price = []\n",
    "    for d in data:\n",
    "        price.append(int(d[2]))\n",
    "    \n",
    "    sizemean, sizestdv = mst(size)\n",
    "    nummean, numstdv = mst(numbeds)\n",
    "    pricemean, pricestdv = mst(price)\n",
    "    \n",
    "    numray = [sizemean, sizestdv, nummean, numstdv, pricemean, pricestdv]\n",
    "    \n",
    "    nsize = []\n",
    "    for s in size:\n",
    "        nsize.append((s-sizemean)/sizestdv)\n",
    "\n",
    "    nnum = []\n",
    "    for n in numbeds:\n",
    "        nnum.append((n-nummean)/numstdv)\n",
    "        \n",
    "    nprice = []\n",
    "    for p in price:\n",
    "        nprice.append((p-pricemean)/pricestdv)\n",
    "    \n",
    "    ndata = []\n",
    "    tdata = []\n",
    "    for i in range(len(nsize)):\n",
    "        tdata.append(nsize[i])\n",
    "        tdata.append(nnum[i])\n",
    "        tdata.append(nprice[i])\n",
    "        ndata.append(tdata)\n",
    "        tdata = []\n",
    "        \n",
    "    with open(\"normalized.txt\", 'w') as f:\n",
    "        #store averages and means of x variables\n",
    "        f.write(\"Averages & Means: \") \n",
    "        for line in numray:\n",
    "            f.write(str(line) + \", \")\n",
    "        f.write(\"End A&M. \\n\")\n",
    "        \n",
    "        #store actual normalized data\n",
    "        for line in ndata:\n",
    "            for l in line:\n",
    "                f.write(str(l) + \", \")\n",
    "        f.close()\n",
    "    \n",
    "    return nsize, nnum, nprice, pricemean, pricestdv\n"
   ]
  },
  {
   "cell_type": "code",
   "execution_count": 130,
   "metadata": {},
   "outputs": [
    {
     "name": "stdout",
     "output_type": "stream",
     "text": [
      "0.13606130901129326\n",
      "[-1.1049081271668444e-16, 0.8077994021029214, 0.021563018859094084]\n"
     ]
    },
    {
     "data": {
      "text/plain": [
       "[-1.1049081271668444e-16, 0.8077994021029214, 0.021563018859094084]"
      ]
     },
     "execution_count": 130,
     "metadata": {},
     "output_type": "execute_result"
    }
   ],
   "source": [
    "def Gradescent (lx1, lx2, ly, a, iterations):\n",
    "    w = [0, 0, 0]\n",
    "    tw = [0, 0, 0]\n",
    "    m = len(lx1)\n",
    "    \n",
    "    def fx(i):\n",
    "        return (w[0] + (w[1]*lx1[i]) + (w[2]*lx2[i]))\n",
    "    \n",
    "    def xj(j, i):\n",
    "        if j == 0:\n",
    "            return 1\n",
    "        elif j == 1:\n",
    "            return lx1[i]\n",
    "        elif j == 2:\n",
    "            return lx2[i]\n",
    "    \n",
    "    for k in range(iterations):\n",
    "        for j in range(len(w)):\n",
    "            seriessum = []\n",
    "            for i in range(m):\n",
    "                seriessum.append((fx(i) - (y[i])) * xj(j, i))\n",
    "            tw[j] = w[j] - (a/m)*sum(seriessum)\n",
    "        #print(tw)\n",
    "        w = tw\n",
    "    \n",
    "    xx1, xx2, yy, pm, pstv = Normalize(\"housing.txt\")\n",
    "    \n",
    "    jw = 0\n",
    "    for i in range(m):\n",
    "        jw += (fx(i)-ly[i])**2\n",
    "    jw = jw / (2*m)\n",
    "    print(jw)\n",
    "    print(w)\n",
    "    \n",
    "    return w\n",
    "             \n",
    "\n",
    "x1, x2, y, pmean, pstndv = Normalize(\"housing.txt\")\n",
    "\n",
    "Gradescent(x1, x2, y, .05, 80)\n"
   ]
  },
  {
   "cell_type": "code",
   "execution_count": 131,
   "metadata": {},
   "outputs": [
    {
     "name": "stdout",
     "output_type": "stream",
     "text": [
      "0.5075576990389086\n",
      "[-0.11416919353069699, 0.07214238715917826, -0.16303411312635982]\n"
     ]
    },
    {
     "data": {
      "text/plain": [
       "[-0.11416919353069699, 0.07214238715917826, -0.16303411312635982]"
      ]
     },
     "execution_count": 131,
     "metadata": {},
     "output_type": "execute_result"
    }
   ],
   "source": [
    "import random\n",
    "def SGD (lx1, lx2, ly, a, iterations):\n",
    "    w = [0, 0, 0]\n",
    "    tw = [0, 0, 0]\n",
    "    m = len(lx1)\n",
    "    \n",
    "    def fx(i):\n",
    "        return (w[0] + w[1]*lx1[i] + w[2]*lx2[i])\n",
    "    \n",
    "    def xj(j, i):\n",
    "        if j == 0:\n",
    "            return 1\n",
    "        elif j == 1:\n",
    "            return lx1[i]\n",
    "        elif j == 2:\n",
    "            return lx2[i]\n",
    "    \n",
    "    counter = 0\n",
    "    for k in range(iterations):\n",
    "        if counter > 0:\n",
    "            random.shuffle(lx1)\n",
    "            random.shuffle(lx2)\n",
    "            random.shuffle(ly)\n",
    "        counter += 1\n",
    "        for i in range(m):\n",
    "            for j in range(len(w)):\n",
    "                tw[j] = w[j] - a*(fx(i)-y[i])*xj(j, i)\n",
    "            w = tw\n",
    "            \n",
    "    jw = 0\n",
    "    for i in range(m):\n",
    "        jw += (fx(i)-ly[i])**2\n",
    "    jw = jw/(2*m)\n",
    "    print(jw)\n",
    "    \n",
    "    print(w)\n",
    "    \n",
    "    return w\n",
    "                              \n",
    "x1, x2, y, pricem, pricest = Normalize(\"housing.txt\")\n",
    "SGD(x1, x2, y, .05, 3)"
   ]
  },
  {
   "cell_type": "code",
   "execution_count": 132,
   "metadata": {},
   "outputs": [
    {
     "name": "stdout",
     "output_type": "stream",
     "text": [
      "0.8258928849337579\n",
      "1.1022051669412318\n",
      "Normalized Cost: 0.6721079643984856\n",
      "Unnormalized Cost: 423554.1192404902\n"
     ]
    }
   ],
   "source": [
    "def Predicting_Prices(x1, x2):\n",
    "    nx1 = (x1-2000.6808510638298)/786.2026187430467\n",
    "    nx2 = (x2-3.1702127659574466)/0.7528428090618782 \n",
    "    print(nx1)\n",
    "    print(nx2)\n",
    "    \n",
    "    w = [-1.0747903749030767e-16, 0.8847659878354605, -0.053178819646500564]\n",
    "    \n",
    "    def fx(a, b):\n",
    "        return (-1.0747903749030767e-16 + 0.8847659878354605*a - 0.053178819646500564*b)\n",
    "    \n",
    "    ucost = fx(nx1, nx2)\n",
    "    \n",
    "    print(\"Normalized Cost: \" + str(ucost))\n",
    "    \n",
    "    cost = ucost * 123702.53600614739 + 340412.6595744681 \n",
    "    \n",
    "    print(\"Unnormalized Cost: \" + str(cost))\n",
    "    \n",
    "\n",
    "Predicting_Prices(2650, 4)\n",
    "    \n",
    "    \n",
    "    \n",
    "    "
   ]
  },
  {
   "cell_type": "code",
   "execution_count": null,
   "metadata": {},
   "outputs": [],
   "source": []
  }
 ],
 "metadata": {
  "kernelspec": {
   "display_name": "Python 3",
   "language": "python",
   "name": "python3"
  },
  "language_info": {
   "codemirror_mode": {
    "name": "ipython",
    "version": 3
   },
   "file_extension": ".py",
   "mimetype": "text/x-python",
   "name": "python",
   "nbconvert_exporter": "python",
   "pygments_lexer": "ipython3",
   "version": "3.7.1"
  }
 },
 "nbformat": 4,
 "nbformat_minor": 2
}
